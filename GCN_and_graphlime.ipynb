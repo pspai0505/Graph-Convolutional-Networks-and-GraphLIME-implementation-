{
  "cells": [
    {
      "cell_type": "code",
      "execution_count": null,
      "metadata": {
        "colab": {
          "base_uri": "https://localhost:8080/"
        },
        "id": "jr8H_JACeReI",
        "outputId": "2315392c-dd32-47ed-ac66-19c7a158ba3f"
      },
      "outputs": [
        {
          "name": "stdout",
          "output_type": "stream",
          "text": [
            "Collecting graphlime\n",
            "  Downloading graphlime-1.2.0.tar.gz (3.3 kB)\n",
            "  Preparing metadata (setup.py) ... \u001b[?25l\u001b[?25hdone\n",
            "Building wheels for collected packages: graphlime\n",
            "  Building wheel for graphlime (setup.py) ... \u001b[?25l\u001b[?25hdone\n",
            "  Created wheel for graphlime: filename=graphlime-1.2.0-py3-none-any.whl size=2596 sha256=af6a3fe136cfd1be99cdc0ce88784ee1d7a26f79203628bdd3b579a6109659e4\n",
            "  Stored in directory: /root/.cache/pip/wheels/7b/18/fd/db68e85d0bc6d250555f50b9774635ec3dbea4eea2c31282a4\n",
            "Successfully built graphlime\n",
            "Installing collected packages: graphlime\n",
            "Successfully installed graphlime-1.2.0\n"
          ]
        }
      ],
      "source": [
        "pip install graphlime"
      ]
    },
    {
      "cell_type": "code",
      "execution_count": null,
      "metadata": {
        "colab": {
          "base_uri": "https://localhost:8080/"
        },
        "id": "KOiKTgppfCQ3",
        "outputId": "cae8974c-8ffc-408f-d9ad-72e867ce167e"
      },
      "outputs": [
        {
          "name": "stdout",
          "output_type": "stream",
          "text": [
            "Collecting torch-geometric\n",
            "  Downloading torch_geometric-2.6.1-py3-none-any.whl.metadata (63 kB)\n",
            "\u001b[?25l     \u001b[90m━━━━━━━━━━━━━━━━━━━━━━━━━━━━━━━━━━━━━━━━\u001b[0m \u001b[32m0.0/63.1 kB\u001b[0m \u001b[31m?\u001b[0m eta \u001b[36m-:--:--\u001b[0m\r\u001b[2K     \u001b[90m━━━━━━━━━━━━━━━━━━━━━━━━━━━━━━━━━━━━━━━━\u001b[0m \u001b[32m63.1/63.1 kB\u001b[0m \u001b[31m1.8 MB/s\u001b[0m eta \u001b[36m0:00:00\u001b[0m\n",
            "\u001b[?25hRequirement already satisfied: aiohttp in /usr/local/lib/python3.10/dist-packages (from torch-geometric) (3.11.9)\n",
            "Requirement already satisfied: fsspec in /usr/local/lib/python3.10/dist-packages (from torch-geometric) (2024.10.0)\n",
            "Requirement already satisfied: jinja2 in /usr/local/lib/python3.10/dist-packages (from torch-geometric) (3.1.4)\n",
            "Requirement already satisfied: numpy in /usr/local/lib/python3.10/dist-packages (from torch-geometric) (1.26.4)\n",
            "Requirement already satisfied: psutil>=5.8.0 in /usr/local/lib/python3.10/dist-packages (from torch-geometric) (5.9.5)\n",
            "Requirement already satisfied: pyparsing in /usr/local/lib/python3.10/dist-packages (from torch-geometric) (3.2.0)\n",
            "Requirement already satisfied: requests in /usr/local/lib/python3.10/dist-packages (from torch-geometric) (2.32.3)\n",
            "Requirement already satisfied: tqdm in /usr/local/lib/python3.10/dist-packages (from torch-geometric) (4.66.6)\n",
            "Requirement already satisfied: aiohappyeyeballs>=2.3.0 in /usr/local/lib/python3.10/dist-packages (from aiohttp->torch-geometric) (2.4.4)\n",
            "Requirement already satisfied: aiosignal>=1.1.2 in /usr/local/lib/python3.10/dist-packages (from aiohttp->torch-geometric) (1.3.1)\n",
            "Requirement already satisfied: async-timeout<6.0,>=4.0 in /usr/local/lib/python3.10/dist-packages (from aiohttp->torch-geometric) (4.0.3)\n",
            "Requirement already satisfied: attrs>=17.3.0 in /usr/local/lib/python3.10/dist-packages (from aiohttp->torch-geometric) (24.2.0)\n",
            "Requirement already satisfied: frozenlist>=1.1.1 in /usr/local/lib/python3.10/dist-packages (from aiohttp->torch-geometric) (1.5.0)\n",
            "Requirement already satisfied: multidict<7.0,>=4.5 in /usr/local/lib/python3.10/dist-packages (from aiohttp->torch-geometric) (6.1.0)\n",
            "Requirement already satisfied: propcache>=0.2.0 in /usr/local/lib/python3.10/dist-packages (from aiohttp->torch-geometric) (0.2.1)\n",
            "Requirement already satisfied: yarl<2.0,>=1.17.0 in /usr/local/lib/python3.10/dist-packages (from aiohttp->torch-geometric) (1.18.3)\n",
            "Requirement already satisfied: MarkupSafe>=2.0 in /usr/local/lib/python3.10/dist-packages (from jinja2->torch-geometric) (3.0.2)\n",
            "Requirement already satisfied: charset-normalizer<4,>=2 in /usr/local/lib/python3.10/dist-packages (from requests->torch-geometric) (3.4.0)\n",
            "Requirement already satisfied: idna<4,>=2.5 in /usr/local/lib/python3.10/dist-packages (from requests->torch-geometric) (3.10)\n",
            "Requirement already satisfied: urllib3<3,>=1.21.1 in /usr/local/lib/python3.10/dist-packages (from requests->torch-geometric) (2.2.3)\n",
            "Requirement already satisfied: certifi>=2017.4.17 in /usr/local/lib/python3.10/dist-packages (from requests->torch-geometric) (2024.8.30)\n",
            "Requirement already satisfied: typing-extensions>=4.1.0 in /usr/local/lib/python3.10/dist-packages (from multidict<7.0,>=4.5->aiohttp->torch-geometric) (4.12.2)\n",
            "Downloading torch_geometric-2.6.1-py3-none-any.whl (1.1 MB)\n",
            "\u001b[2K   \u001b[90m━━━━━━━━━━━━━━━━━━━━━━━━━━━━━━━━━━━━━━━━\u001b[0m \u001b[32m1.1/1.1 MB\u001b[0m \u001b[31m17.9 MB/s\u001b[0m eta \u001b[36m0:00:00\u001b[0m\n",
            "\u001b[?25hInstalling collected packages: torch-geometric\n",
            "Successfully installed torch-geometric-2.6.1\n"
          ]
        }
      ],
      "source": [
        "pip install torch-geometric"
      ]
    },
    {
      "cell_type": "code",
      "execution_count": null,
      "metadata": {
        "id": "20KTrJQhen27"
      },
      "outputs": [],
      "source": [
        "import numpy as np\n",
        "import networkx as nx\n",
        "from tqdm.notebook import tqdm\n",
        "\n",
        "import torch\n",
        "import torch.nn as nn\n",
        "import torch.optim as optim\n",
        "import torch.nn.functional as F\n",
        "\n",
        "from torch_geometric.nn import GATConv\n",
        "from torch_geometric.utils import to_networkx\n",
        "from torch_geometric.datasets import Planetoid\n",
        "from torch_geometric.transforms import NormalizeFeatures\n",
        "\n",
        "from graphlime import GraphLIME\n",
        "\n",
        "import matplotlib.pyplot as plt\n",
        "\n",
        "%matplotlib inline"
      ]
    },
    {
      "cell_type": "code",
      "execution_count": null,
      "metadata": {
        "colab": {
          "base_uri": "https://localhost:8080/"
        },
        "id": "aFJFJsmEe18G",
        "outputId": "8f96a801-c71a-428f-d96a-e4b71363c7bf"
      },
      "outputs": [
        {
          "name": "stderr",
          "output_type": "stream",
          "text": [
            "Downloading https://github.com/kimiyoung/planetoid/raw/master/data/ind.cora.x\n",
            "Downloading https://github.com/kimiyoung/planetoid/raw/master/data/ind.cora.tx\n",
            "Downloading https://github.com/kimiyoung/planetoid/raw/master/data/ind.cora.allx\n",
            "Downloading https://github.com/kimiyoung/planetoid/raw/master/data/ind.cora.y\n",
            "Downloading https://github.com/kimiyoung/planetoid/raw/master/data/ind.cora.ty\n",
            "Downloading https://github.com/kimiyoung/planetoid/raw/master/data/ind.cora.ally\n",
            "Downloading https://github.com/kimiyoung/planetoid/raw/master/data/ind.cora.graph\n",
            "Downloading https://github.com/kimiyoung/planetoid/raw/master/data/ind.cora.test.index\n",
            "Processing...\n",
            "Done!\n"
          ]
        },
        {
          "data": {
            "text/plain": [
              "Data(x=[2708, 1433], edge_index=[2, 10556], y=[2708], train_mask=[2708], val_mask=[2708], test_mask=[2708])"
            ]
          },
          "execution_count": 4,
          "metadata": {},
          "output_type": "execute_result"
        }
      ],
      "source": [
        "dataset = Planetoid('.', 'Cora', transform=NormalizeFeatures())\n",
        "data = dataset[0]\n",
        "data"
      ]
    },
    {
      "cell_type": "code",
      "execution_count": null,
      "metadata": {
        "colab": {
          "base_uri": "https://localhost:8080/",
          "height": 983
        },
        "id": "z6icrCHRfMW3",
        "outputId": "84267558-5b44-4629-e47d-c542b3828ad8"
      },
      "outputs": [
        {
          "data": {
            "image/png": "[encoded data removed]",
            "text/plain": [
              "<Figure size 1600x1200 with 1 Axes>"
            ]
          },
          "metadata": {},
          "output_type": "display_data"
        }
      ],
      "source": [
        "plt.figure(figsize=(16, 12))\n",
        "\n",
        "G = to_networkx(data, to_undirected=True)\n",
        "pos = nx.spring_layout(G, k=0.1)\n",
        "nx.draw_networkx(G, with_labels=False, node_size=30)\n",
        "\n",
        "plt.title('Cora');"
      ]
    },
    {
      "cell_type": "code",
      "execution_count": null,
      "metadata": {
        "id": "KWfjQJ1CfQTV"
      },
      "outputs": [],
      "source": [
        "degrees = dict(nx.degree(G))\n",
        "node_indices = list(degrees.keys())\n",
        "node_degrees = list(degrees.values())\n",
        "\n",
        "max_degree = max(node_degrees)\n",
        "node_idx = np.argmax(node_degrees).item()"
      ]
    },
    {
      "cell_type": "code",
      "execution_count": null,
      "metadata": {
        "colab": {
          "base_uri": "https://localhost:8080/",
          "height": 427
        },
        "id": "AKhm4D8ufjbz",
        "outputId": "d415aab5-e2b3-48d5-92ef-12bd254a73e3"
      },
      "outputs": [
        {
          "name": "stdout",
          "output_type": "stream",
          "text": [
            "Node 1358 has the largest degree value 168.\n"
          ]
        },
        {
          "data": {
            "image/png": "[encoded data removed]",
            "text/plain": [
              "<Figure size 1600x400 with 1 Axes>"
            ]
          },
          "metadata": {},
          "output_type": "display_data"
        }
      ],
      "source": [
        "plt.figure(figsize=(16, 4))\n",
        "\n",
        "plt.bar(node_indices, node_degrees, width=5.0)\n",
        "\n",
        "plt.vlines(x=node_idx, ymin=0, ymax=max_degree, colors='r')\n",
        "\n",
        "plt.title('Degree of Nodes')\n",
        "plt.xlabel('Node Index')\n",
        "plt.ylabel('Degree');\n",
        "\n",
        "print(f'Node {node_idx} has the largest degree value {max_degree}.')"
      ]
    },
    {
      "cell_type": "code",
      "execution_count": null,
      "metadata": {
        "id": "XmLOLcyUflkV"
      },
      "outputs": [],
      "source": [
        "class GAT(nn.Module):\n",
        "\n",
        "    def __init__(self, input_dim, hidden_dim, output_dim,\n",
        "                 heads_1=8, heads_2=1, att_dropout=0.6, input_dropout=0.6):\n",
        "\n",
        "        super(GAT, self).__init__()\n",
        "\n",
        "        self.att_dropout = att_dropout\n",
        "        self.input_dropout = input_dropout\n",
        "\n",
        "        self.conv1 = GATConv(in_channels=input_dim,\n",
        "                             out_channels=hidden_dim // heads_1,\n",
        "                             heads=heads_1,\n",
        "                             concat=True,\n",
        "                             dropout=att_dropout)\n",
        "        self.conv2 = GATConv(in_channels=hidden_dim,\n",
        "                             out_channels=output_dim,\n",
        "                             heads=heads_2,\n",
        "                             concat=False,\n",
        "                             dropout=att_dropout)\n",
        "\n",
        "    def forward(self, x, edge_index):\n",
        "        x = F.dropout(x, p=self.input_dropout, training=self.training)\n",
        "        x = self.conv1(x, edge_index)\n",
        "        x = F.elu(x)\n",
        "        x = F.dropout(x, p=self.input_dropout, training=self.training)\n",
        "        x = self.conv2(x, edge_index)\n",
        "\n",
        "        return F.log_softmax(x, dim=1)"
      ]
    },
    {
      "cell_type": "code",
      "execution_count": null,
      "metadata": {
        "id": "mMxSvW43jFk-"
      },
      "outputs": [],
      "source": [
        "class GCN(nn.Module):\n",
        "    def __init__(self, input_dim, hidden_dim, output_dim, dropout=0.5):\n",
        "        super(GCN, self).__init__()\n",
        "\n",
        "        self.dropout = dropout\n",
        "\n",
        "        self.conv1 = GCNConv(input_dim, hidden_dim)\n",
        "        self.conv2 = GCNConv(hidden_dim, output_dim)\n",
        "\n",
        "    def forward(self, x, edge_index):\n",
        "        x = self.conv1(x, edge_index)\n",
        "        x = F.relu(x)\n",
        "        x = F.dropout(x, p=self.dropout, training=self.training)\n",
        "        x = self.conv2(x, edge_index)\n",
        "\n",
        "        return F.log_softmax(x, dim=1)"
      ]
    },
    {
      "cell_type": "code",
      "execution_count": null,
      "metadata": {
        "id": "MkaUpEiK1FwO"
      },
      "outputs": [],
      "source": [
        "import torch\n",
        "import torch.nn.functional as F\n",
        "from torch_geometric.nn import SAGEConv\n",
        "\n",
        "class GraphSAGE(torch.nn.Module):\n",
        "    def __init__(self, input_dim, hidden_dim, output_dim, dropout=0.5):\n",
        "        super(GraphSAGE, self).__init__()\n",
        "\n",
        "        self.dropout = dropout\n",
        "\n",
        "        self.conv1 = SAGEConv(in_channels=input_dim, out_channels=hidden_dim)\n",
        "        self.conv2 = SAGEConv(in_channels=hidden_dim, out_channels=output_dim)\n",
        "\n",
        "    def forward(self, x, edge_index):\n",
        "        # First GraphSAGE layer\n",
        "        x = self.conv1(x, edge_index)\n",
        "        x = F.relu(x)\n",
        "        x = F.dropout(x, p=self.dropout, training=self.training)\n",
        "\n",
        "        # Second GraphSAGE layer\n",
        "        x = self.conv2(x, edge_index)\n",
        "\n",
        "        return F.log_softmax(x, dim=1)\n"
      ]
    },
    {
      "cell_type": "code",
      "execution_count": null,
      "metadata": {
        "colab": {
          "base_uri": "https://localhost:8080/"
        },
        "id": "K6QsaeFzfsdf",
        "outputId": "a9699f89-99c1-40d3-df22-acb92f468751"
      },
      "outputs": [
        {
          "data": {
            "text/plain": [
              "GraphSAGE(\n",
              "  (conv1): SAGEConv(1433, 16, aggr=mean)\n",
              "  (conv2): SAGEConv(16, 7, aggr=mean)\n",
              ")"
            ]
          },
          "execution_count": 11,
          "metadata": {},
          "output_type": "execute_result"
        }
      ],
      "source": [
        "hparams = {\n",
        "    'input_dim': data.num_node_features,\n",
        "    'hidden_dim': 16,\n",
        "    'output_dim': max(data.y).item() + 1\n",
        "}\n",
        "\n",
        "model = GraphSAGE(**hparams)\n",
        "model"
      ]
    },
    {
      "cell_type": "code",
      "execution_count": null,
      "metadata": {
        "id": "W-U4YJRVfwNn"
      },
      "outputs": [],
      "source": [
        "def accuracy(output, labels):\n",
        "    _, pred = output.max(dim=1)\n",
        "    correct = pred.eq(labels).double()\n",
        "    correct = correct.sum()\n",
        "\n",
        "    return correct / len(labels)"
      ]
    },
    {
      "cell_type": "code",
      "execution_count": null,
      "metadata": {
        "colab": {
          "base_uri": "https://localhost:8080/",
          "height": 743,
          "referenced_widgets": [
            "ce7ef64bd36d4c2f8def2acac5840e25",
            "7c30982da51d4d3791fee23ffa188b9e",
            "b378e01b887d4e10bd0458dd3e65ea88",
            "b707788fa36746dd9d3372b2942015d2",
            "e737a9d16d3d40e8a6936a339731c3e3",
            "b1828caaa993405695f81f1c9c1169e3",
            "0bff3fcbe5e84c8ead7cee5cc48045e7",
            "4626247193ba463b8ae3171048396e7e",
            "588aaa2876974c36a3b836b00012e22a",
            "816219594f1d4ecc971097900b4d2a7f",
            "17338339a2c74b12a06774b40000f5e8"
          ]
        },
        "id": "TT6dJ1aYfx6W",
        "outputId": "9e2831ed-99a2-45d1-baac-e9ab1e3ad8ef"
      },
      "outputs": [
        {
          "data": {
            "application/vnd.jupyter.widget-view+json": {
              "model_id": "ce7ef64bd36d4c2f8def2acac5840e25",
              "version_major": 2,
              "version_minor": 0
            },
            "text/plain": [
              "  0%|          | 0/400 [00:00<?, ?it/s]"
            ]
          },
          "metadata": {},
          "output_type": "display_data"
        },
        {
          "name": "stdout",
          "output_type": "stream",
          "text": [
            "Epoch:   0, acc = 0.143\n",
            "Epoch:  10, acc = 0.586\n",
            "Epoch:  20, acc = 0.729\n",
            "Epoch:  30, acc = 0.800\n",
            "Epoch:  40, acc = 0.843\n",
            "Epoch:  50, acc = 0.914\n",
            "Epoch:  60, acc = 0.957\n",
            "Epoch:  70, acc = 0.936\n",
            "Epoch:  80, acc = 0.957\n",
            "Epoch:  90, acc = 0.986\n",
            "Epoch: 100, acc = 0.957\n",
            "Epoch: 110, acc = 0.979\n",
            "Epoch: 120, acc = 1.000\n",
            "Epoch: 130, acc = 0.986\n",
            "Epoch: 140, acc = 0.986\n",
            "Epoch: 150, acc = 1.000\n",
            "Epoch: 160, acc = 0.993\n",
            "Epoch: 170, acc = 0.993\n",
            "Epoch: 180, acc = 0.993\n",
            "Epoch: 190, acc = 1.000\n",
            "Epoch: 200, acc = 0.993\n",
            "Epoch: 210, acc = 1.000\n",
            "Epoch: 220, acc = 0.986\n",
            "Epoch: 230, acc = 1.000\n",
            "Epoch: 240, acc = 1.000\n",
            "Epoch: 250, acc = 0.993\n",
            "Epoch: 260, acc = 1.000\n",
            "Epoch: 270, acc = 0.986\n",
            "Epoch: 280, acc = 0.986\n",
            "Epoch: 290, acc = 0.986\n",
            "Epoch: 300, acc = 0.979\n",
            "Epoch: 310, acc = 1.000\n",
            "Epoch: 320, acc = 0.993\n",
            "Epoch: 330, acc = 0.993\n",
            "Epoch: 340, acc = 0.993\n",
            "Epoch: 350, acc = 0.993\n",
            "Epoch: 360, acc = 1.000\n",
            "Epoch: 370, acc = 1.000\n",
            "Epoch: 380, acc = 1.000\n",
            "Epoch: 390, acc = 0.993\n"
          ]
        }
      ],
      "source": [
        "lr = 0.005\n",
        "epochs = 400\n",
        "\n",
        "model.train()\n",
        "optimizer = optim.Adam(model.parameters(), lr=lr)\n",
        "\n",
        "for epoch in tqdm(range(epochs)):\n",
        "    optimizer.zero_grad()\n",
        "\n",
        "    output = model(data.x, data.edge_index)\n",
        "    loss = F.nll_loss(output[data.train_mask], data.y[data.train_mask])\n",
        "\n",
        "    loss.backward()\n",
        "    optimizer.step()\n",
        "\n",
        "    if epoch % 10 == 0:\n",
        "        acc = accuracy(output[data.train_mask], data.y[data.train_mask])\n",
        "        print('Epoch: {:3d}, acc = {:.3f}'.format(epoch, acc))"
      ]
    },
    {
      "cell_type": "code",
      "execution_count": null,
      "metadata": {
        "colab": {
          "base_uri": "https://localhost:8080/"
        },
        "id": "jrZphADLfz1k",
        "outputId": "a8538b0c-2957-4004-f1ed-52d12e566e46"
      },
      "outputs": [
        {
          "data": {
            "text/plain": [
              "1358"
            ]
          },
          "execution_count": 14,
          "metadata": {},
          "output_type": "execute_result"
        }
      ],
      "source": [
        "node_idx"
      ]
    },
    {
      "cell_type": "code",
      "execution_count": null,
      "metadata": {
        "colab": {
          "base_uri": "https://localhost:8080/"
        },
        "id": "eaq75ubOf7as",
        "outputId": "0bf1c71a-02d8-4fa7-9cba-45c921a73f5c"
      },
      "outputs": [
        {
          "data": {
            "text/plain": [
              "GraphSAGE(\n",
              "  (conv1): SAGEConv(1433, 16, aggr=mean)\n",
              "  (conv2): SAGEConv(16, 7, aggr=mean)\n",
              ")"
            ]
          },
          "execution_count": 15,
          "metadata": {},
          "output_type": "execute_result"
        }
      ],
      "source": [
        "model.eval()"
      ]
    },
    {
      "cell_type": "code",
      "execution_count": null,
      "metadata": {
        "id": "8XVQA8-egUd6"
      },
      "outputs": [],
      "source": [
        "import sklearn"
      ]
    },
    {
      "cell_type": "code",
      "execution_count": null,
      "metadata": {
        "colab": {
          "base_uri": "https://localhost:8080/"
        },
        "id": "zavO4OuCgZ1a",
        "outputId": "50c6c89c-708c-4654-cafe-3b1c61a0cf70"
      },
      "outputs": [
        {
          "name": "stdout",
          "output_type": "stream",
          "text": [
            "1.5.2\n"
          ]
        }
      ],
      "source": [
        "print(sklearn.__version__)"
      ]
    },
    {
      "cell_type": "code",
      "execution_count": null,
      "metadata": {
        "id": "ZM9DI-jCge8y"
      },
      "outputs": [],
      "source": [
        "import numpy as np\n",
        "from sklearn.linear_model import LassoLars\n",
        "import torch\n",
        "from torch_geometric.nn import MessagePassing\n",
        "from torch_geometric.utils import k_hop_subgraph\n",
        "\n",
        "class GraphLIME:\n",
        "    def __init__(self, model, hop=2, rho=0.1, cached=True):\n",
        "        self.hop = hop\n",
        "        self.rho = rho\n",
        "        self.model = model\n",
        "        self.cached = cached\n",
        "        self.cached_result = None\n",
        "        self.model.eval()\n",
        "    def __flow__(self):\n",
        "        for module in self.model.modules():\n",
        "            if isinstance(module, MessagePassing):\n",
        "                return module.flow\n",
        "        return 'source_to_target'\n",
        "\n",
        "    def __subgraph__(self, node_idx, x, y, edge_index, **kwargs):\n",
        "        num_nodes, num_edges = x.size(0), edge_index.size(1)\n",
        "\n",
        "        subset, edge_index, mapping, edge_mask = k_hop_subgraph(\n",
        "            node_idx, self.hop, edge_index, relabel_nodes=True,\n",
        "            num_nodes=num_nodes, flow=self.__flow__())\n",
        "\n",
        "        x = x[subset]\n",
        "        y = y[subset]\n",
        "\n",
        "        for key, item in kwargs.items():\n",
        "            if torch.is_tensor(item) and item.size(0) == num_nodes:\n",
        "                item = item[subset]\n",
        "            elif torch.is_tensor(item) and item.size(0) == num_edges:\n",
        "                item = item[edge_mask]\n",
        "            kwargs[key] = item\n",
        "        return x, y, edge_index, mapping, edge_mask, kwargs\n",
        "\n",
        "    def __init_predict__(self, x, edge_index, **kwargs):\n",
        "        if self.cached and self.cached_result is not None:\n",
        "            if x.size(0) != self.cached_result.size(0):\n",
        "                raise RuntimeError(\n",
        "                    'Cached {} number of nodes, but found {}.'.format(\n",
        "                        x.size(0), self.cached_result.size(0)))\n",
        "        \n",
        "        if not self.cached or self.cached_result is None:\n",
        "            with torch.no_grad():\n",
        "                log_logits = self.model(x=x, edge_index=edge_index, **kwargs)\n",
        "                probas = log_logits.exp()\n",
        "\n",
        "            self.cached_result = probas\n",
        "\n",
        "        return self.cached_result\n",
        "\n",
        "    def __compute_kernel__(self, x, reduce):\n",
        "        assert x.ndim == 2, x.shape\n",
        "\n",
        "        n, d = x.shape\n",
        "\n",
        "        dist = x.reshape(1, n, d) - x.reshape(n, 1, d)  # (n, n, d)\n",
        "        dist = dist ** 2\n",
        "\n",
        "        if reduce:\n",
        "            dist = np.sum(dist, axis=-1, keepdims=True)  # (n, n, 1)\n",
        "\n",
        "        std = np.sqrt(d)\n",
        "\n",
        "        K = np.exp(-dist / (2 * std ** 2 * 0.1 + 1e-10))  # (n, n, 1) or (n, n, d)\n",
        "\n",
        "        return K\n",
        "\n",
        "    def __compute_gram_matrix__(self, x):\n",
        "        # unstable implementation due to matrix product (HxH)\n",
        "        # n = x.shape[0]\n",
        "        # H = np.eye(n, dtype=np.float) - 1.0 / n * np.ones(n, dtype=np.float)\n",
        "        # G = np.dot(np.dot(H, x), H)\n",
        "\n",
        "        # more stable and accurate implementation\n",
        "        G = x - np.mean(x, axis=0, keepdims=True)\n",
        "        G = G - np.mean(G, axis=1, keepdims=True)\n",
        "\n",
        "        G = G / (np.linalg.norm(G, ord='fro', axis=(0, 1), keepdims=True) + 1e-10)\n",
        "\n",
        "        return G\n",
        "\n",
        "    def explain_node(self, node_idx, x, edge_index, **kwargs):\n",
        "        probas = self.__init_predict__(x, edge_index, **kwargs)\n",
        "\n",
        "        x, probas, _, _, _, _ = self.__subgraph__(\n",
        "            node_idx, x, probas, edge_index, **kwargs)\n",
        "\n",
        "        x = x.detach().cpu().numpy()  # (n, d)\n",
        "        y = probas.detach().cpu().numpy()  # (n, classes)\n",
        "\n",
        "        n, d = x.shape\n",
        "\n",
        "        K = self.__compute_kernel__(x, reduce=False)  # (n, n, d)\n",
        "        L = self.__compute_kernel__(y, reduce=True)  # (n, n, 1)\n",
        "\n",
        "        K_bar = self.__compute_gram_matrix__(K)  # (n, n, d)\n",
        "        L_bar = self.__compute_gram_matrix__(L)  # (n, n, 1)\n",
        "\n",
        "        K_bar = K_bar.reshape(n ** 2, d)  # (n ** 2, d)\n",
        "        L_bar = L_bar.reshape(n ** 2,)  # (n ** 2,)\n",
        "\n",
        "        #solver = LassoLars(self.rho, fit_intercept=False, normalize=False, positive=True)\n",
        "        solver = LassoLars(self.rho, fit_intercept=False, positive=True)\n",
        "\n",
        "        solver.fit(K_bar * n, L_bar * n)\n",
        "        return solver.coef_"
      ]
    },
    {
      "cell_type": "code",
      "execution_count": null,
      "metadata": {
        "id": "D0x1EKw2kZYg"
      },
      "outputs": [],
      "source": [
        "import copy\n",
        "import numpy as np\n",
        "from tqdm import tqdm\n",
        "from sklearn.linear_model import Ridge\n",
        "\n",
        "import torch\n",
        "\n",
        "\n",
        "class LIME:\n",
        "\n",
        "    def __init__(self, model, num_samples, cached=True):\n",
        "        self.model = model\n",
        "        self.num_samples = num_samples\n",
        "        self.cached = cached\n",
        "        self.cached_result = None\n",
        "\n",
        "        self.model.eval()\n",
        "\n",
        "    def __init_predict__(self, x, edge_index, **kwargs):\n",
        "        if self.cached and self.cached_result is not None:\n",
        "            if x.size(0) != self.cached_result.size(0):\n",
        "                raise RuntimeError(\n",
        "                    'Cached {} number of nodes, but found {}.'.format(\n",
        "                        x.size(0), self.cached_result.size(0)))\n",
        "\n",
        "        if not self.cached or self.cached_result is None:\n",
        "            \n",
        "            with torch.no_grad():\n",
        "                log_logits = self.model(x=x, edge_index=edge_index, **kwargs)\n",
        "                probas = log_logits.exp()\n",
        "\n",
        "            self.cached_result = probas\n",
        "\n",
        "        return self.cached_result\n",
        "\n",
        "    def explain_node(self, node_idx, x, edge_index, **kwargs):\n",
        "        probas = self.__init_predict__(x, edge_index, **kwargs)\n",
        "        proba, label = probas[node_idx, :].max(dim=0)\n",
        "\n",
        "        x_ = copy.deepcopy(x)\n",
        "        original_feats = x[node_idx, :]\n",
        "\n",
        "        sample_x = [original_feats.detach().cpu().numpy()]\n",
        "        sample_y = [proba.item()]\n",
        "\n",
        "        for _ in tqdm(range(self.num_samples), desc='collect samples', leave=False):\n",
        "            x_[node_idx, :] = original_feats + torch.randn_like(original_feats)\n",
        "\n",
        "            with torch.no_grad():\n",
        "                log_logits = self.model(x=x_, edge_index=edge_index, **kwargs)\n",
        "                probas_ = log_logits.exp()\n",
        "\n",
        "            proba_ = probas_[node_idx, label]\n",
        "\n",
        "            sample_x.append(x_[node_idx, :].detach().cpu().numpy())\n",
        "            sample_y.append(proba_.item())\n",
        "\n",
        "        sample_x = np.array(sample_x)\n",
        "        sample_y = np.array(sample_y)\n",
        "\n",
        "        solver = Ridge(alpha=0.1)\n",
        "        solver.fit(sample_x, sample_y)\n",
        "\n",
        "        return solver.coef_\n",
        "\n",
        "\n",
        "class Greedy:\n",
        "\n",
        "    def __init__(self, model, cached=True):\n",
        "        self.model = model\n",
        "        self.cached = cached\n",
        "        self.cached_result = None\n",
        "\n",
        "        self.model.eval()\n",
        "\n",
        "    def __init_predict__(self, x, edge_index, **kwargs):\n",
        "        if self.cached and self.cached_result is not None:\n",
        "            if x.size(0) != self.cached_result.size(0):\n",
        "                raise RuntimeError(\n",
        "                    'Cached {} number of nodes, but found {}.'.format(\n",
        "                        x.size(0), self.cached_result.size(0)))\n",
        "\n",
        "        if not self.cached or self.cached_result is None:\n",
        "            # get the initial prediction\n",
        "            with torch.no_grad():\n",
        "                log_logits = self.model(x=x, edge_index=edge_index, **kwargs)\n",
        "                probas = log_logits.exp()\n",
        "\n",
        "            self.cached_result = probas\n",
        "\n",
        "        return self.cached_result\n",
        "\n",
        "    def explain_node(self, node_idices, x, edge_index, **kwargs):\n",
        "        if isinstance(node_idices, int):\n",
        "            node_idices = [node_idices]\n",
        "\n",
        "        probas = self.__init_predict__(x, edge_index, **kwargs)\n",
        "        probas, labels = probas[node_idices, :].max(dim=1)  # (m,), (m,)\n",
        "\n",
        "        num_nodes, num_feats = len(node_idices), x.size(1)\n",
        "        delta_probas = np.zeros((num_nodes, num_feats))  # (m, #feats)\n",
        "\n",
        "        self.model.eval()\n",
        "\n",
        "        for feat_idx in tqdm(range(num_feats), desc='search features', leave=False):\n",
        "            x_ = copy.deepcopy(x)\n",
        "            x_[:, feat_idx] = 0.0\n",
        "\n",
        "            with torch.no_grad():\n",
        "                log_logits = self.model(x=x_, edge_index=edge_index, **kwargs)\n",
        "                probas_ = log_logits.exp()\n",
        "\n",
        "            probas_ = probas_[node_idices, :]  # (m, #classes)\n",
        "\n",
        "            for node_idx in range(num_nodes):\n",
        "                proba = probas[node_idx].item()\n",
        "                label = labels[node_idx]\n",
        "                proba_ = probas_[node_idx, label].item()\n",
        "\n",
        "                delta_probas[node_idx, feat_idx] = abs((proba - proba_) / proba)\n",
        "\n",
        "        return delta_probas\n",
        "\n",
        "\n",
        "class Random:\n",
        "\n",
        "    def __init__(self, num_feats, K):\n",
        "        self.num_feats = num_feats\n",
        "        self.K = K\n",
        "\n",
        "    def explain_node(self):\n",
        "        return np.random.choice(self.num_feats, self.K)"
      ]
    },
    {
      "cell_type": "code",
      "execution_count": null,
      "metadata": {
        "colab": {
          "base_uri": "https://localhost:8080/"
        },
        "id": "QawRe12IgiSa",
        "outputId": "a6d37e03-5cc2-4f1a-da81-b49df37424ab"
      },
      "outputs": [
        {
          "name": "stdout",
          "output_type": "stream",
          "text": [
            "1.5.2\n"
          ]
        }
      ],
      "source": [
        "print(sklearn.__version__)"
      ]
    },
    {
      "cell_type": "code",
      "execution_count": null,
      "metadata": {
        "colab": {
          "base_uri": "https://localhost:8080/"
        },
        "id": "1Xi_e49nglxi",
        "outputId": "fe7bb5f5-2e01-44d3-c853-a76a0832b951"
      },
      "outputs": [
        {
          "name": "stdout",
          "output_type": "stream",
          "text": [
            "Requirement already satisfied: graphlime in /usr/local/lib/python3.10/dist-packages (1.2.0)\n"
          ]
        }
      ],
      "source": [
        "pip install --upgrade graphlime"
      ]
    },
    {
      "cell_type": "code",
      "execution_count": null,
      "metadata": {
        "colab": {
          "base_uri": "https://localhost:8080/"
        },
        "id": "PBlYn4DLf9B8",
        "outputId": "139d52ca-a995-47ca-d27e-7c56885aa5a1"
      },
      "outputs": [
        {
          "data": {
            "text/plain": [
              "array([0., 0., 0., ..., 0., 0., 0.], dtype=float32)"
            ]
          },
          "execution_count": 22,
          "metadata": {},
          "output_type": "execute_result"
        }
      ],
      "source": [
        "\n",
        "explainer = GraphLIME(model, hop=2, rho=0.1, cached=True)\n",
        "\n",
        "coefs = explainer.explain_node(node_idx, data.x, data.edge_index)\n",
        "coefs\n",
        "\n",
        "# Instantiate a LIME explainer\n",
        "#explainer = LIME(model=model, num_samples=1000, cached=True)  # Adjust `num_samples` as needed\n",
        "\n",
        "# Explain node features by calling the `explain_node` method\n",
        "#coefs = explainer.explain_node(node_idx=node_idx, x=data.x, edge_index=data.edge_index)\n",
        "#\n",
        "# Print the coefficients for the explanation\n",
        "#print(coefs)\n"
      ]
    },
    {
      "cell_type": "code",
      "execution_count": null,
      "metadata": {
        "colab": {
          "base_uri": "https://localhost:8080/",
          "height": 405
        },
        "id": "un0Nse_Hf_gr",
        "outputId": "f645152e-2ec7-45ca-8825-7b5daaf3c58e"
      },
      "outputs": [
        {
          "name": "stdout",
          "output_type": "stream",
          "text": [
            "The 1263-th feature is the most important.\n"
          ]
        },
        {
          "data": {
            "image/png": "[encoded data removed]",
            "text/plain": [
              "<Figure size 1600x400 with 1 Axes>"
            ]
          },
          "metadata": {},
          "output_type": "display_data"
        }
      ],
      "source": [
        "plt.figure(figsize=(16, 4))\n",
        "\n",
        "x = list(range(data.num_node_features))\n",
        "\n",
        "plt.bar(x, coefs, width=5.0)\n",
        "plt.xlabel('Feature Index by graphlime')\n",
        "plt.ylabel(r'$\\beta$');\n",
        "\n",
        "print(f'The {np.argmax(coefs)}-th feature is the most important.')"
      ]
    },
    {
      "cell_type": "code",
      "execution_count": null,
      "metadata": {
        "id": "dBXlIssSiufo"
      },
      "outputs": [],
      "source": []
    }
  ],
  "metadata": {
    "colab": {
      "provenance": []
    },
    "kernelspec": {
      "display_name": "Python 3",
      "name": "python3"
    },
    "language_info": {
      "name": "python"
    },
    "widgets": {
      "application/vnd.jupyter.widget-state+json": {
        "0bff3fcbe5e84c8ead7cee5cc48045e7": {
          "model_module": "@jupyter-widgets/controls",
          "model_module_version": "1.5.0",
          "model_name": "DescriptionStyleModel",
          "state": {
            "_model_module": "@jupyter-widgets/controls",
            "_model_module_version": "1.5.0",
            "_model_name": "DescriptionStyleModel",
            "_view_count": null,
            "_view_module": "@jupyter-widgets/base",
            "_view_module_version": "1.2.0",
            "_view_name": "StyleView",
            "description_width": ""
          }
        },
        "17338339a2c74b12a06774b40000f5e8": {
          "model_module": "@jupyter-widgets/controls",
          "model_module_version": "1.5.0",
          "model_name": "DescriptionStyleModel",
          "state": {
            "_model_module": "@jupyter-widgets/controls",
            "_model_module_version": "1.5.0",
            "_model_name": "DescriptionStyleModel",
            "_view_count": null,
            "_view_module": "@jupyter-widgets/base",
            "_view_module_version": "1.2.0",
            "_view_name": "StyleView",
            "description_width": ""
          }
        },
        "4626247193ba463b8ae3171048396e7e": {
          "model_module": "@jupyter-widgets/base",
          "model_module_version": "1.2.0",
          "model_name": "LayoutModel",
          "state": {
            "_model_module": "@jupyter-widgets/base",
            "_model_module_version": "1.2.0",
            "_model_name": "LayoutModel",
            "_view_count": null,
            "_view_module": "@jupyter-widgets/base",
            "_view_module_version": "1.2.0",
            "_view_name": "LayoutView",
            "align_content": null,
            "align_items": null,
            "align_self": null,
            "border": null,
            "bottom": null,
            "display": null,
            "flex": null,
            "flex_flow": null,
            "grid_area": null,
            "grid_auto_columns": null,
            "grid_auto_flow": null,
            "grid_auto_rows": null,
            "grid_column": null,
            "grid_gap": null,
            "grid_row": null,
            "grid_template_areas": null,
            "grid_template_columns": null,
            "grid_template_rows": null,
            "height": null,
            "justify_content": null,
            "justify_items": null,
            "left": null,
            "margin": null,
            "max_height": null,
            "max_width": null,
            "min_height": null,
            "min_width": null,
            "object_fit": null,
            "object_position": null,
            "order": null,
            "overflow": null,
            "overflow_x": null,
            "overflow_y": null,
            "padding": null,
            "right": null,
            "top": null,
            "visibility": null,
            "width": null
          }
        },
        "588aaa2876974c36a3b836b00012e22a": {
          "model_module": "@jupyter-widgets/controls",
          "model_module_version": "1.5.0",
          "model_name": "ProgressStyleModel",
          "state": {
            "_model_module": "@jupyter-widgets/controls",
            "_model_module_version": "1.5.0",
            "_model_name": "ProgressStyleModel",
            "_view_count": null,
            "_view_module": "@jupyter-widgets/base",
            "_view_module_version": "1.2.0",
            "_view_name": "StyleView",
            "bar_color": null,
            "description_width": ""
          }
        },
        "7c30982da51d4d3791fee23ffa188b9e": {
          "model_module": "@jupyter-widgets/controls",
          "model_module_version": "1.5.0",
          "model_name": "HTMLModel",
          "state": {
            "_dom_classes": [],
            "_model_module": "@jupyter-widgets/controls",
            "_model_module_version": "1.5.0",
            "_model_name": "HTMLModel",
            "_view_count": null,
            "_view_module": "@jupyter-widgets/controls",
            "_view_module_version": "1.5.0",
            "_view_name": "HTMLView",
            "description": "",
            "description_tooltip": null,
            "layout": "IPY_MODEL_b1828caaa993405695f81f1c9c1169e3",
            "placeholder": "​",
            "style": "IPY_MODEL_0bff3fcbe5e84c8ead7cee5cc48045e7",
            "value": "100%"
          }
        },
        "816219594f1d4ecc971097900b4d2a7f": {
          "model_module": "@jupyter-widgets/base",
          "model_module_version": "1.2.0",
          "model_name": "LayoutModel",
          "state": {
            "_model_module": "@jupyter-widgets/base",
            "_model_module_version": "1.2.0",
            "_model_name": "LayoutModel",
            "_view_count": null,
            "_view_module": "@jupyter-widgets/base",
            "_view_module_version": "1.2.0",
            "_view_name": "LayoutView",
            "align_content": null,
            "align_items": null,
            "align_self": null,
            "border": null,
            "bottom": null,
            "display": null,
            "flex": null,
            "flex_flow": null,
            "grid_area": null,
            "grid_auto_columns": null,
            "grid_auto_flow": null,
            "grid_auto_rows": null,
            "grid_column": null,
            "grid_gap": null,
            "grid_row": null,
            "grid_template_areas": null,
            "grid_template_columns": null,
            "grid_template_rows": null,
            "height": null,
            "justify_content": null,
            "justify_items": null,
            "left": null,
            "margin": null,
            "max_height": null,
            "max_width": null,
            "min_height": null,
            "min_width": null,
            "object_fit": null,
            "object_position": null,
            "order": null,
            "overflow": null,
            "overflow_x": null,
            "overflow_y": null,
            "padding": null,
            "right": null,
            "top": null,
            "visibility": null,
            "width": null
          }
        },
        "b1828caaa993405695f81f1c9c1169e3": {
          "model_module": "@jupyter-widgets/base",
          "model_module_version": "1.2.0",
          "model_name": "LayoutModel",
          "state": {
            "_model_module": "@jupyter-widgets/base",
            "_model_module_version": "1.2.0",
            "_model_name": "LayoutModel",
            "_view_count": null,
            "_view_module": "@jupyter-widgets/base",
            "_view_module_version": "1.2.0",
            "_view_name": "LayoutView",
            "align_content": null,
            "align_items": null,
            "align_self": null,
            "border": null,
            "bottom": null,
            "display": null,
            "flex": null,
            "flex_flow": null,
            "grid_area": null,
            "grid_auto_columns": null,
            "grid_auto_flow": null,
            "grid_auto_rows": null,
            "grid_column": null,
            "grid_gap": null,
            "grid_row": null,
            "grid_template_areas": null,
            "grid_template_columns": null,
            "grid_template_rows": null,
            "height": null,
            "justify_content": null,
            "justify_items": null,
            "left": null,
            "margin": null,
            "max_height": null,
            "max_width": null,
            "min_height": null,
            "min_width": null,
            "object_fit": null,
            "object_position": null,
            "order": null,
            "overflow": null,
            "overflow_x": null,
            "overflow_y": null,
            "padding": null,
            "right": null,
            "top": null,
            "visibility": null,
            "width": null
          }
        },
        "b378e01b887d4e10bd0458dd3e65ea88": {
          "model_module": "@jupyter-widgets/controls",
          "model_module_version": "1.5.0",
          "model_name": "FloatProgressModel",
          "state": {
            "_dom_classes": [],
            "_model_module": "@jupyter-widgets/controls",
            "_model_module_version": "1.5.0",
            "_model_name": "FloatProgressModel",
            "_view_count": null,
            "_view_module": "@jupyter-widgets/controls",
            "_view_module_version": "1.5.0",
            "_view_name": "ProgressView",
            "bar_style": "success",
            "description": "",
            "description_tooltip": null,
            "layout": "IPY_MODEL_4626247193ba463b8ae3171048396e7e",
            "max": 400,
            "min": 0,
            "orientation": "horizontal",
            "style": "IPY_MODEL_588aaa2876974c36a3b836b00012e22a",
            "value": 400
          }
        },
        "b707788fa36746dd9d3372b2942015d2": {
          "model_module": "@jupyter-widgets/controls",
          "model_module_version": "1.5.0",
          "model_name": "HTMLModel",
          "state": {
            "_dom_classes": [],
            "_model_module": "@jupyter-widgets/controls",
            "_model_module_version": "1.5.0",
            "_model_name": "HTMLModel",
            "_view_count": null,
            "_view_module": "@jupyter-widgets/controls",
            "_view_module_version": "1.5.0",
            "_view_name": "HTMLView",
            "description": "",
            "description_tooltip": null,
            "layout": "IPY_MODEL_816219594f1d4ecc971097900b4d2a7f",
            "placeholder": "​",
            "style": "IPY_MODEL_17338339a2c74b12a06774b40000f5e8",
            "value": " 400/400 [00:40&lt;00:00, 10.65it/s]"
          }
        },
        "ce7ef64bd36d4c2f8def2acac5840e25": {
          "model_module": "@jupyter-widgets/controls",
          "model_module_version": "1.5.0",
          "model_name": "HBoxModel",
          "state": {
            "_dom_classes": [],
            "_model_module": "@jupyter-widgets/controls",
            "_model_module_version": "1.5.0",
            "_model_name": "HBoxModel",
            "_view_count": null,
            "_view_module": "@jupyter-widgets/controls",
            "_view_module_version": "1.5.0",
            "_view_name": "HBoxView",
            "box_style": "",
            "children": [
              "IPY_MODEL_7c30982da51d4d3791fee23ffa188b9e",
              "IPY_MODEL_b378e01b887d4e10bd0458dd3e65ea88",
              "IPY_MODEL_b707788fa36746dd9d3372b2942015d2"
            ],
            "layout": "IPY_MODEL_e737a9d16d3d40e8a6936a339731c3e3"
          }
        },
        "e737a9d16d3d40e8a6936a339731c3e3": {
          "model_module": "@jupyter-widgets/base",
          "model_module_version": "1.2.0",
          "model_name": "LayoutModel",
          "state": {
            "_model_module": "@jupyter-widgets/base",
            "_model_module_version": "1.2.0",
            "_model_name": "LayoutModel",
            "_view_count": null,
            "_view_module": "@jupyter-widgets/base",
            "_view_module_version": "1.2.0",
            "_view_name": "LayoutView",
            "align_content": null,
            "align_items": null,
            "align_self": null,
            "border": null,
            "bottom": null,
            "display": null,
            "flex": null,
            "flex_flow": null,
            "grid_area": null,
            "grid_auto_columns": null,
            "grid_auto_flow": null,
            "grid_auto_rows": null,
            "grid_column": null,
            "grid_gap": null,
            "grid_row": null,
            "grid_template_areas": null,
            "grid_template_columns": null,
            "grid_template_rows": null,
            "height": null,
            "justify_content": null,
            "justify_items": null,
            "left": null,
            "margin": null,
            "max_height": null,
            "max_width": null,
            "min_height": null,
            "min_width": null,
            "object_fit": null,
            "object_position": null,
            "order": null,
            "overflow": null,
            "overflow_x": null,
            "overflow_y": null,
            "padding": null,
            "right": null,
            "top": null,
            "visibility": null,
            "width": null
          }
        }
      }
    }
  },
  "nbformat": 4,
  "nbformat_minor": 0
}
